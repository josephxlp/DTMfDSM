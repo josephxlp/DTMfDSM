{
 "cells": [
  {
   "cell_type": "code",
   "execution_count": 3,
   "metadata": {},
   "outputs": [],
   "source": [
    "from os.path import join, basename\n",
    "from os import makedirs,cpu_count\n",
    "from glob import glob\n",
    "from concurrent.futures import ProcessPoolExecutor\n",
    "import time"
   ]
  },
  {
   "cell_type": "code",
   "execution_count": 68,
   "metadata": {},
   "outputs": [
    {
     "name": "stdout",
     "output_type": "stream",
     "text": [
      "18\n"
     ]
    },
    {
     "data": {
      "text/plain": [
       "['/media/ljp238/12TBWolf/ARCHIEVE/OUT/TONLESAP/LiDAR/Tonlesap_TSAP1.tif',\n",
       " '/media/ljp238/12TBWolf/ARCHIEVE/OUT/TONLESAP/LiDAR/Tonlesap_TSAP2.tif']"
      ]
     },
     "execution_count": 68,
     "metadata": {},
     "output_type": "execute_result"
    }
   ],
   "source": [
    "wdir = \"/media/ljp238/12TBWolf/ARCHIEVE/OUT/TONLESAP/\"\n",
    "lidar_dpath = join(wdir, 'LiDAR')\n",
    "tiles_dpath = join(wdir, 'TILES')\n",
    "\n",
    "ds_dpath = \"/media/ljp238/12TBWolf/ARCHIEVE/OUT/TILES12B/N13E103/\"\n",
    "vrt_files = ds_files = glob(f'{ds_dpath}/*.tif'); print(len(ds_files))\n",
    "\n",
    "cpus = int(cpu_count() - 3)\n",
    "basefiles = lidar_files = glob(f'{lidar_dpath}/*.tif')\n",
    "lidar_files"
   ]
  },
  {
   "cell_type": "code",
   "execution_count": 53,
   "metadata": {},
   "outputs": [],
   "source": [
    "import os\n",
    "import rasterio\n",
    "from rasterio.features import shapes\n",
    "import geopandas as gpd\n",
    "from shapely.geometry import shape\n",
    "import numpy as np\n",
    "import geopandas as gpd\n",
    "\n",
    "\n",
    "\n",
    "def gdal_polygonize(tif_path, gpkg_path):\n",
    "    cmd = f'gdal_polygonize.py {tif_path} -b 1 -f \"GPKG\" {gpkg_path}'# OUTPUT DN'\n",
    "    os.system(cmd)\n",
    "\n",
    "def dissolve_features(input_gpkg,output_gpkg):\n",
    "    #input_layer, \n",
    "    \"\"\"\n",
    "    Dissolve all features in a GeoPackage layer into a single geometry.\n",
    "\n",
    "    :param input_gpkg: Path to the input GeoPackage file.\n",
    "    :param input_layer: Name of the layer to dissolve.\n",
    "    :param output_gpkg: Path to the output GeoPackage file with dissolved features.\n",
    "    \"\"\"\n",
    "    # Load the layer from the GeoPackage\n",
    "    gdf = gpd.read_file(input_gpkg)#, layer=input_layer)\n",
    "    \n",
    "    # Dissolve all features into a single geometry\n",
    "    dissolved = gdf.dissolve()\n",
    "    \n",
    "    # Save the dissolved geometry to a new GeoPackage\n",
    "    dissolved.to_file(output_gpkg, driver='GPKG') #layer='dissolved',\n",
    "    print(f\"Dissolved features saved to {output_gpkg}\")\n",
    "\n",
    "def buffer_features(input_gpkg,output_gpkg, buffer_distance):\n",
    "    \"\"\"\n",
    "    Apply a buffer to the dissolved features in a GeoPackage layer.\n",
    "\n",
    "    :param input_gpkg: Path to the input GeoPackage file with dissolved features.\n",
    "    :param input_layer: Name of the layer to buffer.\n",
    "    :param output_gpkg: Path to the output GeoPackage file with buffered features.\n",
    "    :param buffer_distance: Distance for the buffer operation.\n",
    "    \"\"\"\n",
    "    # Load the dissolved layer from the GeoPackage\n",
    "    gdf = gpd.read_file(input_gpkg)#, layer=input_layer)\n",
    "    \n",
    "    # Apply the buffer operation\n",
    "    buffered = gdf.buffer(buffer_distance)\n",
    "    \n",
    "    # Create a new GeoDataFrame to store the buffered geometry\n",
    "    buffered_gdf = gpd.GeoDataFrame(geometry=buffered, crs=gdf.crs)\n",
    "    \n",
    "    # Save the buffered geometry to a new GeoPackage\n",
    "    buffered_gdf.to_file(output_gpkg,driver='GPKG')# layer='buffered', \n",
    "    print(f\"Buffered features saved to {output_gpkg}\")\n",
    "\n",
    "def save_to_gpkg(gdf, output_path):\n",
    "    gdf.to_file(output_path, driver='GPKG')\n",
    "\n",
    "def raster2vectorcutline(raster_path, gpkg_path):\n",
    "    # Convert raster to polygons\n",
    "\n",
    "    gpkg_path_int = gpkg_path.replace('.gpkg', '_P.gpkg')\n",
    "    fb = gpkg_path_int.replace('.gpkg','_B.gpkg')\n",
    "    gdal_polygonize(raster_path, gpkg_path_int)\n",
    "    buffer_features(gpkg_path_int, fb, 0)\n",
    "    dissolve_features(fb,gpkg_path)\n",
    "    os.remove(gpkg_path_int)\n",
    "    os.remove(fb)\n",
    " \n",
    "    print(\"Process completed. Output saved to:\", gpkg_path)\n",
    "\n",
    "\n",
    "for j,fi in enumerate(basefiles):\n",
    "    fo = fi.replace('.tif', '.gpkg')\n",
    "    print(fi,'\\n',fo)\n",
    "    #raster2vectorcutline(fi,fo)"
   ]
  },
  {
   "cell_type": "code",
   "execution_count": null,
   "metadata": {},
   "outputs": [],
   "source": [
    "import rasterio\n",
    "from rasterio.mask import mask\n",
    "import fiona\n",
    "import os\n",
    "\n",
    "def clip_cultilinex(vpath,rpath, fopath):\n",
    "    cmd = f'gdalwarp -cutline {vpath} -crop_to_cutline -dstalpha {rpath} {fopath}'\n",
    "    os.system(cmd)\n",
    "\n",
    "def clip_cultiline(vpath, rpath, fopath):\n",
    "  # Open the vector file\n",
    "  with fiona.open(vpath, \"r\") as shapefile:\n",
    "      # Extract the geometry from the vector file\n",
    "      shapes = [feature[\"geometry\"] for feature in shapefile]\n",
    "\n",
    "  # Open the raster file\n",
    "  with rasterio.open(rpath) as src:\n",
    "      # Clip the raster with the geometry\n",
    "      out_image, out_transform = mask(src, shapes, crop=True)\n",
    "      out_meta = src.meta.copy()\n",
    "\n",
    "      # Update the metadata to reflect the new dimensions\n",
    "      out_meta.update({\n",
    "          \"driver\": \"GTiff\",\n",
    "          \"height\": out_image.shape[1],\n",
    "          \"width\": out_image.shape[2],\n",
    "          \"transform\": out_transform\n",
    "      })\n",
    "\n",
    "      # Write the clipped raster to a new file\n",
    "      with rasterio.open(fopath, \"w\", **out_meta) as dest:\n",
    "          dest.write(out_image)\n",
    "\n",
    "# Example usage\n",
    "#clip_cultiline(\"path/to/vector.gpkg\", \"path/to/input_raster.tif\", \"path/to/output_raster.tif\")\n",
    "\n",
    "def get_out_params(tiles_dpath,bfile,src_dataset):\n",
    "    dname = basename(bfile).replace('.gpkg','').split('_')[-1]\n",
    "    dst_dpath = join(tiles_dpath,dname)\n",
    "    makedirs(dst_dpath, exist_ok=True)\n",
    "    dst_dataset = join(dst_dpath,basename(src_dataset))\n",
    "    return dst_dataset\n",
    "\n",
    "\n",
    "gpkg_files = glob(f'{lidar_dpath}/*.gpkg')\n",
    "gpkg_files,lidar_dpath\n",
    "\n",
    "if __name__ == '__main__':\n",
    "    ti = time.perf_counter()\n",
    "    with ProcessPoolExecutor(cpus) as PPE:\n",
    "        for i,vrt in enumerate(vrt_files):\n",
    "            src_dataset = vrt\n",
    "            #print(vrt)\n",
    "            for j,bfile in enumerate(gpkg_files):\n",
    "                dst_dataset = get_out_params(tiles_dpath,bfile,src_dataset)\n",
    "                #clip_cultiline(src_dataset,bfile,dst_dataset)\n",
    "\n",
    "               \n",
    "                # PPE.submit(\n",
    "                #    clip_cultilinex,bfile,src_dataset,dst_dataset\n",
    "                # )\n",
    " \n",
    "               \n",
    "    tf = time.perf_counter() - ti\n",
    "    print(f'run.time : {tf/60}  min(s)')\n"
   ]
  },
  {
   "cell_type": "code",
   "execution_count": 70,
   "metadata": {},
   "outputs": [
    {
     "data": {
      "text/plain": [
       "(['/media/ljp238/12TBWolf/ARCHIEVE/OUT/TONLESAP/LiDAR/Tonlesap_TSAP1.gpkg',\n",
       "  '/media/ljp238/12TBWolf/ARCHIEVE/OUT/TONLESAP/LiDAR/Tonlesap_TSAP2.gpkg'],\n",
       " '/media/ljp238/12TBWolf/ARCHIEVE/OUT/TONLESAP/LiDAR')"
      ]
     },
     "execution_count": 70,
     "metadata": {},
     "output_type": "execute_result"
    }
   ],
   "source": []
  },
  {
   "cell_type": "code",
   "execution_count": 62,
   "metadata": {},
   "outputs": [],
   "source": [
    "\n",
    "\n",
    "\n",
    "\n",
    "\n"
   ]
  },
  {
   "cell_type": "code",
   "execution_count": 65,
   "metadata": {},
   "outputs": [
    {
     "name": "stdout",
     "output_type": "stream",
     "text": [
      "Using band 2 of source image as alpha.\n",
      "Copying color table from /media/ljp238/12TBWolf/ARCHIEVE/OUT/TILES12B/N13E103/N13E103_edem_LCM.tif to new file.\n",
      "Creating output file that is 2093P x 767L.\n",
      "Using internal nodata values (e.g. 0) for image /media/ljp238/12TBWolf/ARCHIEVE/OUT/TILES12B/N13E103/N13E103_edem_LCM.tif.\n",
      "Processing /media/ljp238/12TBWolf/ARCHIEVE/OUT/TILES12B/N13E103/N13E103_edem_LCM.tif [1/1] : 0Creating output file that is 452P x 349L.\n",
      "Processing /media/ljp238/12TBWolf/ARCHIEVE/OUT/TILES12B/N13E103/N13E103_tdem_COM.tif [1/1] : 0Creating output file that is 452P x 349L.\n",
      "Using internal nodata values (e.g. -9999) for image /media/ljp238/12TBWolf/ARCHIEVE/OUT/TILES12B/N13E103/N13E103_EGM08.tif.\n",
      "Processing /media/ljp238/12TBWolf/ARCHIEVE/OUT/TILES12B/N13E103/N13E103_EGM08.tif [1/1] : 0Creating output file that is 452P x 349L.\n",
      "Processing /media/ljp238/12TBWolf/ARCHIEVE/OUT/TILES12B/N13E103/N13E103_label_thresh_pdem.tif [1/1] : 0...10...20...30...40...50...60...70...80...90......10...20...30...40...50Using band 2 of source image as alpha.\n",
      "Copying color table from /media/ljp238/12TBWolf/ARCHIEVE/OUT/TILES12B/N13E103/N13E103_edem_LCM.tif to new file.\n",
      "Creating output file that is 452P x 349L.\n",
      "Using internal nodata values (e.g. 0) for image /media/ljp238/12TBWolf/ARCHIEVE/OUT/TILES12B/N13E103/N13E103_edem_LCM.tif.\n",
      "Processing /media/ljp238/12TBWolf/ARCHIEVE/OUT/TILES12B/N13E103/N13E103_edem_LCM.tif [1/1] : 0....10.......2010......3020.......4030......5040.60.....6050......70..60....80...70....90...80.....90..70.Creating output file that is 2093P x 767L.\n",
      "Processing /media/ljp238/12TBWolf/ARCHIEVE/OUT/TILES12B/N13E103/N13E103_label_thresh_ldem.tif [1/1] : 0.Creating output file that is 452P x 349L.\n",
      "Using internal nodata values (e.g. -9999) for image /media/ljp238/12TBWolf/ARCHIEVE/OUT/TILES12B/N13E103/N13E103_multi_ALDTM.tif.\n",
      "Processing /media/ljp238/12TBWolf/ARCHIEVE/OUT/TILES12B/N13E103/N13E103_multi_ALDTM.tif [1/1] : 0Creating output file that is 2093P x 767L.\n",
      "Processing /media/ljp238/12TBWolf/ARCHIEVE/OUT/TILES12B/N13E103/N13E103_tdem_COM.tif [1/1] : 0.Creating output file that is 2093P x 767L.\n",
      "Processing /media/ljp238/12TBWolf/ARCHIEVE/OUT/TILES12B/N13E103/N13E103_cdem_DEM.tif [1/1] : 0.Creating output file that is 2093P x 767L.\n",
      "Processing /media/ljp238/12TBWolf/ARCHIEVE/OUT/TILES12B/N13E103/N13E103_tdem_WAM.tif [1/1] : 080Creating output file that is 2093P x 767L.\n",
      "Using internal nodata values (e.g. -9999) for image /media/ljp238/12TBWolf/ARCHIEVE/OUT/TILES12B/N13E103/N13E103_multi_ALDTM.tif.\n",
      "Processing /media/ljp238/12TBWolf/ARCHIEVE/OUT/TILES12B/N13E103/N13E103_multi_ALDTM.tif [1/1] : 0...90...100 - done.\n",
      "...10...20...30...40...50...60...70...80...90......10...20...30...40...50...60...70...80...90.........1010.....20....2030......40.30...50.100 - done.\n",
      "...Creating output file that is 2093P x 767L.\n",
      "Using internal nodata values (e.g. -9999) for image /media/ljp238/12TBWolf/ARCHIEVE/OUT/TILES12B/N13E103/N13E103_NegroAOIDTM.tif.\n",
      "Processing /media/ljp238/12TBWolf/ARCHIEVE/OUT/TILES12B/N13E103/N13E103_NegroAOIDTM.tif [1/1] : 0.40Creating output file that is 452P x 349L.\n",
      "Using internal nodata values (e.g. 0) for image /media/ljp238/12TBWolf/ARCHIEVE/OUT/TILES12B/N13E103/N13E103_tdem_DEM_M_BIN.tif.\n",
      "Processing /media/ljp238/12TBWolf/ARCHIEVE/OUT/TILES12B/N13E103/N13E103_tdem_DEM_M_BIN.tif [1/1] : 060100 - done.\n",
      ".....70...50..80.....6090......70...80...90......10...20...Creating output file that is 2093P x 767L.\n",
      "Using internal nodata values (e.g. -9999) for image /media/ljp238/12TBWolf/ARCHIEVE/OUT/TILES12B/N13E103/N13E103_edem_W84.tif.\n",
      "Processing /media/ljp238/12TBWolf/ARCHIEVE/OUT/TILES12B/N13E103/N13E103_edem_W84.tif [1/1] : 030....40...10.....2050......30...10..60..20...30.....40...50.....60...70...4080....90....70....50.Creating output file that is 2093P x 767L.\n",
      "Using internal nodata values (e.g. 1e+20) for image /media/ljp238/12TBWolf/ARCHIEVE/OUT/TILES12B/N13E103/N13E103_tdem_DEM_M.tif.\n",
      "Processing /media/ljp238/12TBWolf/ARCHIEVE/OUT/TILES12B/N13E103/N13E103_tdem_DEM_M.tif [1/1] : 0Creating output file that is 452P x 349L.\n",
      "Processing /media/ljp238/12TBWolf/ARCHIEVE/OUT/TILES12B/N13E103/N13E103_label_thresh_ldem.tif [1/1] : 0.80.....60Creating output file that is 452P x 349L.\n",
      "Processing /media/ljp238/12TBWolf/ARCHIEVE/OUT/TILES12B/N13E103/N13E103_cdem_DEM.tif [1/1] : 090......70Creating output file that is 452P x 349L.\n",
      "Processing /media/ljp238/12TBWolf/ARCHIEVE/OUT/TILES12B/N13E103/N13E103_tdem_HEM.tif [1/1] : 0...80...90......10...20...30...40...50...60...70...80....90...10.....20...30...40...50...60...70...80...90......10...20...30...40...50...60...70...80...90......10...20...30....10....20....30...4040...50....60....70...80....90.50.....60...70...80...90...100 - done.\n",
      "Creating output file that is 2093P x 767L.\n",
      "Processing /media/ljp238/12TBWolf/ARCHIEVE/OUT/TILES12B/N13E103/N13E103_tdem_DEM.tif [1/1] : 0Copying color table from /media/ljp238/12TBWolf/ARCHIEVE/OUT/TILES12B/N13E103/N13E103_multi_ESAWC.tif to new file.\n",
      "Creating output file that is 2093P x 767L.\n",
      "Using internal nodata values (e.g. 0) for image /media/ljp238/12TBWolf/ARCHIEVE/OUT/TILES12B/N13E103/N13E103_multi_ESAWC.tif.\n",
      "Processing /media/ljp238/12TBWolf/ARCHIEVE/OUT/TILES12B/N13E103/N13E103_multi_ESAWC.tif [1/1] : 0Creating output file that is 452P x 349L.\n",
      "Using internal nodata values (e.g. -9999) for image /media/ljp238/12TBWolf/ARCHIEVE/OUT/TILES12B/N13E103/N13E103_NegroAOIDTM.tif.\n",
      "Processing /media/ljp238/12TBWolf/ARCHIEVE/OUT/TILES12B/N13E103/N13E103_NegroAOIDTM.tif [1/1] : 0100 - done.\n",
      "...10....10....20...30...40....50...60...70.20..80...90......30...Creating output file that is 2093P x 767L.\n",
      "Using internal nodata values (e.g. -9999) for image /media/ljp238/12TBWolf/ARCHIEVE/OUT/TILES12B/N13E103/N13E103_EGM08.tif.\n",
      "Processing /media/ljp238/12TBWolf/ARCHIEVE/OUT/TILES12B/N13E103/N13E103_EGM08.tif [1/1] : 040...50.....10....20...6030...40....50....60....70...7080...90......80...90...Creating output file that is 2093P x 767L.\n",
      "Using internal nodata values (e.g. 0) for image /media/ljp238/12TBWolf/ARCHIEVE/OUT/TILES12B/N13E103/N13E103_tdem_DEM_M_BIN.tif.\n",
      "Processing /media/ljp238/12TBWolf/ARCHIEVE/OUT/TILES12B/N13E103/N13E103_tdem_DEM_M_BIN.tif [1/1] : 0Creating output file that is 452P x 349L.\n",
      "Using internal nodata values (e.g. 1e+20) for image /media/ljp238/12TBWolf/ARCHIEVE/OUT/TILES12B/N13E103/N13E103_tdem_DEM_M.tif.\n",
      "Processing /media/ljp238/12TBWolf/ARCHIEVE/OUT/TILES12B/N13E103/N13E103_tdem_DEM_M.tif [1/1] : 0...10...20...30.Creating output file that is 2093P x 767L.\n",
      "Processing /media/ljp238/12TBWolf/ARCHIEVE/OUT/TILES12B/N13E103/N13E103_SENTINEL1.tif [1/1] : 0..40...50...60...70...80...90...Creating output file that is 452P x 349L.\n",
      "Using internal nodata values (e.g. -9999) for image /media/ljp238/12TBWolf/ARCHIEVE/OUT/TILES12B/N13E103/N13E103_EGM96.tif.\n",
      "Processing /media/ljp238/12TBWolf/ARCHIEVE/OUT/TILES12B/N13E103/N13E103_EGM96.tif [1/1] : 0Creating output file that is 452P x 349L.\n",
      "Using internal nodata values (e.g. -9999) for image /media/ljp238/12TBWolf/ARCHIEVE/OUT/TILES12B/N13E103/N13E103_edem_W84.tif.\n",
      "Processing /media/ljp238/12TBWolf/ARCHIEVE/OUT/TILES12B/N13E103/N13E103_edem_W84.tif [1/1] : 0...10...20...30...40...50...60...70...80...90......10...20...30...40...50...60...70...80...90...100 - done.\n",
      "...10...20...30...40...50...60...70...80...90.....Creating output file that is 2093P x 767L.\n",
      "Processing /media/ljp238/12TBWolf/ARCHIEVE/OUT/TILES12B/N13E103/N13E103_cdem_WBM.tif [1/1] : 0.10...20...30...40...50...60...70...80...90...100 - done.\n",
      "Creating output file that is 2093P x 767L.\n",
      "Processing /media/ljp238/12TBWolf/ARCHIEVE/OUT/TILES12B/N13E103/N13E103_label_thresh_pdem.tif [1/1] : 0Creating output file that is 452P x 349L.\n",
      "Processing /media/ljp238/12TBWolf/ARCHIEVE/OUT/TILES12B/N13E103/N13E103_tdem_DEM.tif [1/1] : 0Creating output file that is 2093P x 767L.\n",
      "Using internal nodata values (e.g. -9999) for image /media/ljp238/12TBWolf/ARCHIEVE/OUT/TILES12B/N13E103/N13E103_EGM96.tif.\n",
      "Processing /media/ljp238/12TBWolf/ARCHIEVE/OUT/TILES12B/N13E103/N13E103_EGM96.tif [1/1] : 0...10..Creating output file that is 452P x 349L.\n",
      "Processing /media/ljp238/12TBWolf/ARCHIEVE/OUT/TILES12B/N13E103/N13E103_SENTINEL1.tif [1/1] : 0.20...30...40...50...60...70...80...90.......10....10..20....20..30....30...40..40....Creating output file that is 452P x 349L.\n",
      "Processing /media/ljp238/12TBWolf/ARCHIEVE/OUT/TILES12B/N13E103/N13E103_cdem_WBM.tif [1/1] : 050.50......6060..Copying color table from /media/ljp238/12TBWolf/ARCHIEVE/OUT/TILES12B/N13E103/N13E103_multi_ESAWC.tif to new file.\n",
      "Creating output file that is 452P x 349L.\n",
      "Using internal nodata values (e.g. 0) for image /media/ljp238/12TBWolf/ARCHIEVE/OUT/TILES12B/N13E103/N13E103_multi_ESAWC.tif.\n",
      "Processing /media/ljp238/12TBWolf/ARCHIEVE/OUT/TILES12B/N13E103/N13E103_multi_ESAWC.tif [1/1] : 0....7070.....80...80..90....90.......10100 - done.\n",
      "......2010......3020......4030..100 - done.\n",
      "....5040......6050......7060......8070......9080......90...100 - done.\n",
      "Creating output file that is 452P x 349L.\n",
      "Processing /media/ljp238/12TBWolf/ARCHIEVE/OUT/TILES12B/N13E103/N13E103_tdem_WAM.tif [1/1] : 0...10....10....20...30...40....50...60..20.70...80....90.....30....10....20...30....40...5040..100 - done.\n",
      ".60....70...80....90....50...60...70100 - done.\n",
      "...80Creating output file that is 2093P x 767L.\n",
      "Processing /media/ljp238/12TBWolf/ARCHIEVE/OUT/TILES12B/N13E103/N13E103_tdem_HEM.tif [1/1] : 0...90...100 - done.\n",
      "100 - done.\n",
      "100 - done.\n",
      "...10...20...30...40...50...60...70...80.100 - done.\n",
      "..90...100 - done.\n",
      "100 - done.\n",
      "...10...20...10...20....30...40....50...60...70....80...90.30.....40...100 - done.\n",
      "100 - done.\n",
      "...10...20...30...40...50...60...70...80...90...100 - done.\n",
      "50...60...70...80...90...100 - done.\n",
      "100 - done.\n",
      "100 - done.\n",
      "100 - done.\n",
      "100 - done.\n",
      "100 - done.\n",
      "100 - done.\n",
      "100 - done.\n",
      "100 - done.\n",
      "100 - done.\n",
      "100 - done.\n",
      "100 - done.\n",
      "100 - done.\n",
      "100 - done.\n",
      "100 - done.\n",
      "run.time : 0.08157701540039852  min(s)\n"
     ]
    }
   ],
   "source": []
  },
  {
   "cell_type": "code",
   "execution_count": 57,
   "metadata": {},
   "outputs": [
    {
     "data": {
      "text/plain": [
       "90.99"
      ]
     },
     "execution_count": 57,
     "metadata": {},
     "output_type": "execute_result"
    }
   ],
   "source": [
    "t = 2 + 1 + 1.5\n",
    "r = 20.22 \n",
    "t * r"
   ]
  },
  {
   "cell_type": "code",
   "execution_count": null,
   "metadata": {},
   "outputs": [],
   "source": [
    "# organize this script\n",
    "# write the steps: patch this, gen parquets, train and predict based on previous scripts both for classification and regression, tab, img \n",
    "# synthetic\n",
    "# xml\n",
    "# send to Rolf "
   ]
  },
  {
   "cell_type": "code",
   "execution_count": 67,
   "metadata": {},
   "outputs": [],
   "source": [
    "# may be threshold by WC better than threshold\n",
    "# otsu, and other like DELTA-DTM, and others? or combination"
   ]
  },
  {
   "cell_type": "code",
   "execution_count": null,
   "metadata": {},
   "outputs": [],
   "source": []
  }
 ],
 "metadata": {
  "kernelspec": {
   "display_name": "pgeoml",
   "language": "python",
   "name": "python3"
  },
  "language_info": {
   "codemirror_mode": {
    "name": "ipython",
    "version": 3
   },
   "file_extension": ".py",
   "mimetype": "text/x-python",
   "name": "python",
   "nbconvert_exporter": "python",
   "pygments_lexer": "ipython3",
   "version": "3.9.19"
  }
 },
 "nbformat": 4,
 "nbformat_minor": 2
}
